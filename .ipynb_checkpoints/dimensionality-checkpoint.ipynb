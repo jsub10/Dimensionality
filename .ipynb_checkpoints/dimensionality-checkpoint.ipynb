{
 "cells": [
  {
   "cell_type": "markdown",
   "metadata": {},
   "source": [
    "# dimensionality\n",
    "\n",
    "Investigate how the average distance between a set of points changes as the dimensionality of the space increases."
   ]
  },
  {
   "cell_type": "markdown",
   "metadata": {},
   "source": [
    "## Packages for computation and data manipulation"
   ]
  },
  {
   "cell_type": "code",
   "execution_count": 1,
   "metadata": {},
   "outputs": [],
   "source": [
    "import numpy as np # for number crunching\n",
    "import pandas as pd # for data loading and manipulation\n",
    "import time\n",
    "import pickle\n",
    "import re\n",
    "import random\n",
    "import itertools\n",
    "from itertools import groupby\n",
    "import collections\n",
    "from collections import Counter\n",
    "from collections import defaultdict\n",
    "from datetime import datetime, timedelta\n",
    "import string\n",
    "import io\n",
    "\n",
    "from scipy.spatial import distance\n",
    "from scipy.spatial.distance import cdist\n",
    "from scipy.spatial import Voronoi # for showing cluster boundaries\n",
    "\n",
    "from sklearn.metrics import pairwise_distances\n",
    "\n",
    "# Plotting\n",
    "# Import the pyplot module from the matplotlib library\n",
    "from matplotlib import pyplot as plt\n",
    "import seaborn as sns"
   ]
  },
  {
   "cell_type": "markdown",
   "metadata": {},
   "source": [
    "## Approach\n",
    "\n",
    " - Generate an array of vectors with array size m rows and n columns\n",
    " - These arrays can be of two kinds.\n",
    "  - Case 1: The first kind of array is when each vector in the array is the same as every other vector in the array. This is the case in which we start out with n points in a one-dimensional space and ask how these same points are distributed as we increase the dimensions. Same points, \n",
    "  - Case 2: The second kind of array is when each vector in the array is different from every other vector in the array. This is the general case of having the same number of points but the points in each dimension are different from the points in the higher dimension. Intuitively, this is not the case that we want. \n",
    " - Case 1\n",
    "  - Generate an m x n array where the row vectors are exactly the same. Use the repeat_array function with repeat_array=1.\n",
    "  - Find the average distance between the points on a single vector. \n",
    "  - Then take a 2, 3, 4, ... m vectors and transpose them. This will render them in the form that the same set of points are being put into higher dimensions. Find the average pairwise distance between these vectors. This measures the way in which dimensionality makes distances greater and washes out similarity because ultimately everything is sufficiently far from everthing."
   ]
  },
  {
   "cell_type": "code",
   "execution_count": 2,
   "metadata": {},
   "outputs": [],
   "source": [
    "def create_data_array(m_rows, n_cols, repeat_array=0):\n",
    "    '''\n",
    "    Create an num_rows x num_cols array of random values in the interval (0, 1]. \n",
    "    num_rows is the dimensionality of the space and num_cols is the number of points \n",
    "    along any single dimension.\n",
    "    \n",
    "    When repeat_array = 0 (default), the rows contain differnt vectors. E.g., [[0.1, 0.2], [0.5, 0.8], [0.2, 0.7]]\n",
    "    When repeat_array = 1, the rows all contain the same vector. E.g., [[0.1, 0.2], [0.1, 0.2], [0.1, 0.2]]\n",
    "    \n",
    "    REQUIRES numpy, random\n",
    "    \n",
    "    '''\n",
    "    if repeat_array == 1:\n",
    "        # Create the base vector\n",
    "        vec = np.random.random_sample(size=(1, n_cols))\n",
    "        # Create num_rows replicas of vec to form the array\n",
    "        vec_array = np.repeat(vec, m_rows, axis=0)\n",
    "    else:\n",
    "        vec_array = np.random.random_sample(size=(m_rows, n_cols))\n",
    "        \n",
    "    return vec_array"
   ]
  },
  {
   "cell_type": "code",
   "execution_count": 3,
   "metadata": {},
   "outputs": [
    {
     "data": {
      "text/plain": [
       "array([[3.54136499e-01, 6.44214904e-01, 5.33628662e-01, 4.60433570e-01],\n",
       "       [3.50989123e-01, 1.75438944e-01, 2.41365843e-01, 2.92183787e-01],\n",
       "       [5.17171857e-03, 1.03818093e-01, 9.00047545e-01, 2.00989144e-04],\n",
       "       [4.12592150e-01, 9.09737353e-01, 9.33975707e-02, 8.39118305e-01],\n",
       "       [5.49826340e-01, 1.06700963e-01, 6.96399551e-01, 6.01072451e-02],\n",
       "       [3.55081130e-01, 4.82942404e-01, 1.71258904e-01, 8.31701780e-01],\n",
       "       [8.71908649e-01, 2.67580380e-01, 5.25352520e-01, 4.27823637e-01],\n",
       "       [7.23781552e-01, 8.80758727e-01, 1.10286314e-01, 1.34769143e-02],\n",
       "       [5.54517272e-02, 7.49049754e-01, 5.76046102e-01, 5.03563171e-01],\n",
       "       [8.21524422e-01, 9.21713262e-01, 1.27588414e-02, 4.38537632e-01],\n",
       "       [9.65060625e-01, 5.12971389e-01, 7.51652905e-01, 1.12349881e-01],\n",
       "       [3.83133588e-01, 6.28754340e-01, 8.36154428e-01, 8.66035244e-01],\n",
       "       [1.89941530e-01, 1.68416739e-01, 2.91025336e-01, 7.70322066e-01],\n",
       "       [4.44107600e-01, 7.82322533e-01, 9.91678765e-01, 7.45456868e-01],\n",
       "       [1.30463225e-01, 1.07394677e-01, 5.73661567e-01, 2.54348240e-01],\n",
       "       [3.44521607e-01, 6.67270004e-01, 8.07046763e-01, 1.13324914e-01],\n",
       "       [5.31438450e-01, 5.50005821e-01, 2.25986723e-01, 3.47103877e-01],\n",
       "       [3.23458553e-02, 9.40723851e-01, 2.99438835e-01, 5.25021253e-01],\n",
       "       [9.38735990e-01, 6.32531221e-01, 8.77213690e-01, 6.22633741e-01],\n",
       "       [5.14360680e-01, 2.73035591e-01, 4.35216026e-01, 9.40601556e-01]])"
      ]
     },
     "execution_count": 3,
     "metadata": {},
     "output_type": "execute_result"
    }
   ],
   "source": [
    "vec_array = create_data_array(20,4,repeat_array=0)\n",
    "vec_array"
   ]
  },
  {
   "cell_type": "code",
   "execution_count": 4,
   "metadata": {},
   "outputs": [],
   "source": [
    "def single_vector_distances(vector):\n",
    "    '''\n",
    "    Given a vector such as [0.2, 0.3, 0.76], find the pairwise distances between\n",
    "    the elements. Calculate the descriptive stats for these pairwise distances -- max, min, mean, and std dev.\n",
    "    \n",
    "    REQUIRES numpy\n",
    "    \n",
    "    '''\n",
    "    # Get the pairwise distances as a one-dimensional array\n",
    "    pairwise_dists = np.reshape([np.abs(vector[i] - vector[j]) for i in range(len(vector)) for j in range(len(vector))], (1, -1))[0]\n",
    "    \n",
    "    # Remove the zeros from the pairwise_distances vector \n",
    "    ## This ensures that the mean is larger than it would otherwise be and accurately reflects how average distances\n",
    "    ## between points grows as dimensionality increases.\n",
    "    \n",
    "    non_zero_distances = [x for x in pairwise_dists if x > 0]\n",
    "    \n",
    "    return [np.mean(non_zero_distances), np.std(non_zero_distances), np.max(non_zero_distances), np.min(non_zero_distances)]"
   ]
  },
  {
   "cell_type": "code",
   "execution_count": 5,
   "metadata": {},
   "outputs": [
    {
     "data": {
      "text/plain": [
       "[0.15723838461730125,\n",
       " 0.0715086763150385,\n",
       " 0.2900784051148362,\n",
       " 0.07319509235929889]"
      ]
     },
     "execution_count": 5,
     "metadata": {},
     "output_type": "execute_result"
    }
   ],
   "source": [
    "single_vector_distances(vec_array[0])"
   ]
  },
  {
   "cell_type": "code",
   "execution_count": 6,
   "metadata": {},
   "outputs": [
    {
     "data": {
      "text/plain": [
       "array([[3.54136499e-01, 6.44214904e-01, 5.33628662e-01, 4.60433570e-01],\n",
       "       [3.50989123e-01, 1.75438944e-01, 2.41365843e-01, 2.92183787e-01],\n",
       "       [5.17171857e-03, 1.03818093e-01, 9.00047545e-01, 2.00989144e-04],\n",
       "       [4.12592150e-01, 9.09737353e-01, 9.33975707e-02, 8.39118305e-01],\n",
       "       [5.49826340e-01, 1.06700963e-01, 6.96399551e-01, 6.01072451e-02],\n",
       "       [3.55081130e-01, 4.82942404e-01, 1.71258904e-01, 8.31701780e-01],\n",
       "       [8.71908649e-01, 2.67580380e-01, 5.25352520e-01, 4.27823637e-01],\n",
       "       [7.23781552e-01, 8.80758727e-01, 1.10286314e-01, 1.34769143e-02],\n",
       "       [5.54517272e-02, 7.49049754e-01, 5.76046102e-01, 5.03563171e-01],\n",
       "       [8.21524422e-01, 9.21713262e-01, 1.27588414e-02, 4.38537632e-01],\n",
       "       [9.65060625e-01, 5.12971389e-01, 7.51652905e-01, 1.12349881e-01],\n",
       "       [3.83133588e-01, 6.28754340e-01, 8.36154428e-01, 8.66035244e-01],\n",
       "       [1.89941530e-01, 1.68416739e-01, 2.91025336e-01, 7.70322066e-01],\n",
       "       [4.44107600e-01, 7.82322533e-01, 9.91678765e-01, 7.45456868e-01],\n",
       "       [1.30463225e-01, 1.07394677e-01, 5.73661567e-01, 2.54348240e-01],\n",
       "       [3.44521607e-01, 6.67270004e-01, 8.07046763e-01, 1.13324914e-01],\n",
       "       [5.31438450e-01, 5.50005821e-01, 2.25986723e-01, 3.47103877e-01],\n",
       "       [3.23458553e-02, 9.40723851e-01, 2.99438835e-01, 5.25021253e-01],\n",
       "       [9.38735990e-01, 6.32531221e-01, 8.77213690e-01, 6.22633741e-01],\n",
       "       [5.14360680e-01, 2.73035591e-01, 4.35216026e-01, 9.40601556e-01]])"
      ]
     },
     "execution_count": 6,
     "metadata": {},
     "output_type": "execute_result"
    }
   ],
   "source": [
    "vec_array_test = vec_array[0:21]\n",
    "vec_array_test"
   ]
  },
  {
   "cell_type": "code",
   "execution_count": 7,
   "metadata": {},
   "outputs": [],
   "source": [
    "def multiple_vector_distances(vector_array): \n",
    "    '''\n",
    "    Given a vector_array such as such as [[0.2, 0.3, 0.76],[0.2, 0.3, 0.76],[0.2, 0.3, 0.76]] \n",
    "    (in this case each vector in the array is the same, but they don't have to be), find the \n",
    "    pairwise distances between each vector in the vector_array. \n",
    "    \n",
    "    Calculate the descriptive statistics for the pairwise distances -- mean, std dev, max, and min.\n",
    "    OBSERVATION: The length of the vector_array is a measure of the dimensionality of the space.\n",
    "    \n",
    "    REQUIRES numpy, from sklearn.metrics import pairwise_distances\n",
    "    \n",
    "    '''\n",
    "    \n",
    "    # First transpose the vector_array\n",
    "    ## This ensures that when the vectors are the same the \n",
    "    ## same points that are on a single dimension are represented in multiple dimensiions. \n",
    "    ## When the vectors in the vector_array are different we don't have to transpose -- but it doesn't change\n",
    "    ## anything and it keeps the code simpler to handle both types of vector_arrays with a single function.\n",
    "    vec_array_transp = np.transpose(vector_array)\n",
    "    \n",
    "    # Find the pairwise distances between each vector in the array \n",
    "    ## and flatten the array into a one-row vector\n",
    "    pairwise_dists = np.reshape(pairwise_distances(vec_array_transp), (1, -1))[0]\n",
    "    \n",
    "    # Drop the zeros\n",
    "    non_zero_distances = [x for x in pairwise_dists if x > 0]\n",
    "    \n",
    "    # Return the descriptive stats\n",
    "    return [np.mean(non_zero_distances), np.std(non_zero_distances), np.max(non_zero_distances), np.min(non_zero_distances)]"
   ]
  },
  {
   "cell_type": "code",
   "execution_count": 8,
   "metadata": {},
   "outputs": [
    {
     "data": {
      "text/plain": [
       "[1.883763413555826, 0.14498886324963212, 2.067911281833139, 1.6814071853804193]"
      ]
     },
     "execution_count": 8,
     "metadata": {},
     "output_type": "execute_result"
    }
   ],
   "source": [
    "multiple_vector_distances(vec_array_test)"
   ]
  },
  {
   "cell_type": "markdown",
   "metadata": {},
   "source": [
    "## How does the average distance between points vary as dimensionality increases? "
   ]
  },
  {
   "cell_type": "code",
   "execution_count": 25,
   "metadata": {},
   "outputs": [],
   "source": [
    "def distance_per_dimension(num_points, num_dims, repeat_array=1):\n",
    "    '''\n",
    "    Imagine you have num_points number of points on a line. These are randomly generated points in \n",
    "    the interval (0.0, 1.0]. What happens to the average distance between these points as they are placed\n",
    "    in spaces with dimensions from 1 to num_dims?\n",
    "    \n",
    "    USES single_vector_distances, multiple_vector_distances\n",
    "    \n",
    "    REQUIRES seaborn, matplotlib, pandas\n",
    "    \n",
    "    '''\n",
    "    t0 = time.time()\n",
    "    \n",
    "    # Create a vector array\n",
    "    ## The value of m_rows is the number of dimensions and n_cols the number of points for which\n",
    "    ## we calculate the results.\n",
    "    vector_array = create_data_array(m_rows=num_dims, n_cols=num_points, repeat_array=repeat_array)\n",
    "\n",
    "    # Starting with dimensionality = 1 and ending with dimensionality = m_rows, find the \n",
    "    ## pairwise distance descriptive stats for the vector arrays. \n",
    "    descriptive_stats = []\n",
    "    for i in range(num_dims):\n",
    "        if i == 0:\n",
    "            # Calculate the stats for a single vector\n",
    "            desc_stats = single_vector_distances(vector_array[i])\n",
    "        else:\n",
    "            # Calculate the stats for each dimension\n",
    "            desc_stats = multiple_vector_distances(vector_array[0:i+1])\n",
    "\n",
    "        descriptive_stats.append(desc_stats)\n",
    "\n",
    "    # descriptive stats now contains all the information we need\n",
    "\n",
    "    # Create a dataframe to view the results easily\n",
    "    df_desc_stats = pd.DataFrame(descriptive_stats, columns=['Mean Distance', 'Std Distance', 'Max Distance', 'Min Distance'])\n",
    "\n",
    "    # Plot the results\n",
    "    fig, ax = plt.subplots(figsize=(12,8))\n",
    "    sns.lineplot(data=df_desc_stats);\n",
    "    plt.suptitle('Distance Between ' + str(num_points) + ' Points As Dimensionality Increases', fontsize='18')\n",
    "    plt.grid(True)\n",
    "    ax.set_xlabel(\"Number of Dimensions\", fontsize='14')\n",
    "    ax.set_ylabel(\"Distance\", fontsize='14');\n",
    "    \n",
    "    t1 = time.time()\n",
    "    print(\"Generated in {} seconds.\".format(round(t1-t0, 3)))\n",
    "    \n",
    "    return df_desc_stats"
   ]
  },
  {
   "cell_type": "code",
   "execution_count": 27,
   "metadata": {},
   "outputs": [
    {
     "name": "stdout",
     "output_type": "stream",
     "text": [
      "Generated in 0.606 seconds.\n"
     ]
    },
    {
     "data": {
      "text/html": [
       "<div>\n",
       "<style scoped>\n",
       "    .dataframe tbody tr th:only-of-type {\n",
       "        vertical-align: middle;\n",
       "    }\n",
       "\n",
       "    .dataframe tbody tr th {\n",
       "        vertical-align: top;\n",
       "    }\n",
       "\n",
       "    .dataframe thead th {\n",
       "        text-align: right;\n",
       "    }\n",
       "</style>\n",
       "<table border=\"1\" class=\"dataframe\">\n",
       "  <thead>\n",
       "    <tr style=\"text-align: right;\">\n",
       "      <th></th>\n",
       "      <th>Mean Distance</th>\n",
       "      <th>Std Distance</th>\n",
       "      <th>Max Distance</th>\n",
       "      <th>Min Distance</th>\n",
       "    </tr>\n",
       "  </thead>\n",
       "  <tbody>\n",
       "    <tr>\n",
       "      <th>0</th>\n",
       "      <td>0.564342</td>\n",
       "      <td>0.236100</td>\n",
       "      <td>0.846513</td>\n",
       "      <td>0.268661</td>\n",
       "    </tr>\n",
       "    <tr>\n",
       "      <th>1</th>\n",
       "      <td>0.798100</td>\n",
       "      <td>0.333896</td>\n",
       "      <td>1.197150</td>\n",
       "      <td>0.379944</td>\n",
       "    </tr>\n",
       "    <tr>\n",
       "      <th>2</th>\n",
       "      <td>0.977469</td>\n",
       "      <td>0.408938</td>\n",
       "      <td>1.466203</td>\n",
       "      <td>0.465335</td>\n",
       "    </tr>\n",
       "    <tr>\n",
       "      <th>3</th>\n",
       "      <td>1.128684</td>\n",
       "      <td>0.472201</td>\n",
       "      <td>1.693026</td>\n",
       "      <td>0.537322</td>\n",
       "    </tr>\n",
       "    <tr>\n",
       "      <th>4</th>\n",
       "      <td>1.261907</td>\n",
       "      <td>0.527936</td>\n",
       "      <td>1.892860</td>\n",
       "      <td>0.600744</td>\n",
       "    </tr>\n",
       "    <tr>\n",
       "      <th>...</th>\n",
       "      <td>...</td>\n",
       "      <td>...</td>\n",
       "      <td>...</td>\n",
       "      <td>...</td>\n",
       "    </tr>\n",
       "    <tr>\n",
       "      <th>995</th>\n",
       "      <td>17.810329</td>\n",
       "      <td>7.451201</td>\n",
       "      <td>26.715493</td>\n",
       "      <td>8.478798</td>\n",
       "    </tr>\n",
       "    <tr>\n",
       "      <th>996</th>\n",
       "      <td>17.819267</td>\n",
       "      <td>7.454941</td>\n",
       "      <td>26.728901</td>\n",
       "      <td>8.483054</td>\n",
       "    </tr>\n",
       "    <tr>\n",
       "      <th>997</th>\n",
       "      <td>17.828201</td>\n",
       "      <td>7.458678</td>\n",
       "      <td>26.742302</td>\n",
       "      <td>8.487307</td>\n",
       "    </tr>\n",
       "    <tr>\n",
       "      <th>998</th>\n",
       "      <td>17.837131</td>\n",
       "      <td>7.462414</td>\n",
       "      <td>26.755697</td>\n",
       "      <td>8.491558</td>\n",
       "    </tr>\n",
       "    <tr>\n",
       "      <th>999</th>\n",
       "      <td>17.846056</td>\n",
       "      <td>7.466148</td>\n",
       "      <td>26.769085</td>\n",
       "      <td>8.495807</td>\n",
       "    </tr>\n",
       "  </tbody>\n",
       "</table>\n",
       "<p>1000 rows × 4 columns</p>\n",
       "</div>"
      ],
      "text/plain": [
       "     Mean Distance  Std Distance  Max Distance  Min Distance\n",
       "0         0.564342      0.236100      0.846513      0.268661\n",
       "1         0.798100      0.333896      1.197150      0.379944\n",
       "2         0.977469      0.408938      1.466203      0.465335\n",
       "3         1.128684      0.472201      1.693026      0.537322\n",
       "4         1.261907      0.527936      1.892860      0.600744\n",
       "..             ...           ...           ...           ...\n",
       "995      17.810329      7.451201     26.715493      8.478798\n",
       "996      17.819267      7.454941     26.728901      8.483054\n",
       "997      17.828201      7.458678     26.742302      8.487307\n",
       "998      17.837131      7.462414     26.755697      8.491558\n",
       "999      17.846056      7.466148     26.769085      8.495807\n",
       "\n",
       "[1000 rows x 4 columns]"
      ]
     },
     "execution_count": 27,
     "metadata": {},
     "output_type": "execute_result"
    },
    {
     "data": {
      "image/png": "[encoded data removed]",
      "text/plain": [
       "<Figure size 864x576 with 1 Axes>"
      ]
     },
     "metadata": {
      "needs_background": "light"
     },
     "output_type": "display_data"
    }
   ],
   "source": [
    "distance_per_dimension(num_points=3, num_dims=1000, repeat_array=1)"
   ]
  },
  {
   "cell_type": "code",
   "execution_count": null,
   "metadata": {},
   "outputs": [],
   "source": []
  }
 ],
 "metadata": {
  "kernelspec": {
   "display_name": "Python 3",
   "language": "python",
   "name": "python3"
  },
  "language_info": {
   "codemirror_mode": {
    "name": "ipython",
    "version": 3
   },
   "file_extension": ".py",
   "mimetype": "text/x-python",
   "name": "python",
   "nbconvert_exporter": "python",
   "pygments_lexer": "ipython3",
   "version": "3.8.5"
  }
 },
 "nbformat": 4,
 "nbformat_minor": 4
}
