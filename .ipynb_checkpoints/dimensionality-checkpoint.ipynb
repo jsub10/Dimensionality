{
 "cells": [
  {
   "cell_type": "markdown",
   "metadata": {},
   "source": [
    "# dimensionality\n",
    "\n",
    "Investigate how the average distance between a set of points changes as the dimensionality of the space increases."
   ]
  },
  {
   "cell_type": "markdown",
   "metadata": {},
   "source": [
    "## Packages for computation and data manipulation"
   ]
  },
  {
   "cell_type": "code",
   "execution_count": 1,
   "metadata": {},
   "outputs": [],
   "source": [
    "import numpy as np # for number crunching\n",
    "import pandas as pd # for data loading and manipulation\n",
    "import time\n",
    "import pickle\n",
    "import re\n",
    "import random\n",
    "import itertools\n",
    "from itertools import groupby\n",
    "import collections\n",
    "from collections import Counter\n",
    "from collections import defaultdict\n",
    "from datetime import datetime, timedelta\n",
    "import string\n",
    "import io\n",
    "\n",
    "from scipy.spatial import distance\n",
    "from scipy.spatial.distance import cdist\n",
    "from scipy.spatial import Voronoi # for showing cluster boundaries\n",
    "\n",
    "from sklearn.metrics import pairwise_distances\n",
    "\n",
    "# Plotting\n",
    "# Import the pyplot module from the matplotlib library\n",
    "from matplotlib import pyplot as plt\n",
    "import seaborn as sns"
   ]
  },
  {
   "cell_type": "markdown",
   "metadata": {},
   "source": [
    "## Approach 1 - What happens to the Euclidean distances between points in a hypercube as the number of dimensions of that hypercube increases? \n",
    "\n",
    " - Generate an array of vectors with array size m rows and n columns\n",
    " - These arrays can be of two kinds.\n",
    "  - Case 1: The first kind of array is when each vector in the array is the same as every other vector in the array. This is the case in which we start out with n points in a one-dimensional space and ask how these same points are distributed as we increase the dimensions. Same points, \n",
    "  - Case 2: The second kind of array is when each vector in the array is different from every other vector in the array. This is the general case of having the same number of points but the points in each dimension are different from the points in the higher dimension. Intuitively, this is not the case that we want. \n",
    " - Case 1\n",
    "  - Generate an m x n array where the row vectors are exactly the same. Use the repeat_array function with repeat_array=1.\n",
    "  - Find the average distance between the points on a single vector. \n",
    "  - Then take a 2, 3, 4, ... m vectors and transpose them. This will render them in the form that the same set of points are being put into higher dimensions. Find the average pairwise distance between these vectors. This measures the way in which dimensionality makes distances greater and washes out similarity because ultimately everything is sufficiently far from everthing.\n",
    " - Case 2\n",
    "  - Generate an m x n array where the row vectors are different. Use repeat_array=0. The rest of the steps are the same as Case 1.\n",
    "  - Since there can be different points in different dimensions, the results are less stable in terms of the conclusions we can draw about the rate of change of average distance, for example.\n",
    "  \n",
    "## Approach 2 - Density of points in an n-dimensional hypercube\n",
    "\n",
    "Another way to think about this is as a measure of density where density is the number of points in the hypercube divided by the volume of the hypercube. The volume of an n-dimensional hypercube with edge length r is $r^n$. "
   ]
  },
  {
   "cell_type": "markdown",
   "metadata": {},
   "source": [
    "## Approach 1"
   ]
  },
  {
   "cell_type": "code",
   "execution_count": 4,
   "metadata": {},
   "outputs": [],
   "source": [
    "def create_data_array(m_rows, n_cols, repeat_array=1, custom_vector=[]):\n",
    "    '''\n",
    "    Create an num_rows x num_cols array of random values in the interval (0, 1]. \n",
    "    num_rows is the dimensionality of the space and num_cols is the number of points \n",
    "    along any single dimension.\n",
    "    \n",
    "    When repeat_array = 0, the rows contain differnt vectors. E.g., [[0.1, 0.2], [0.5, 0.8], [0.2, 0.7]]\n",
    "    When repeat_array = 1 (default), the rows all contain the same vector. E.g., [[0.1, 0.2], [0.1, 0.2], [0.1, 0.2]]\n",
    "    \n",
    "    REQUIRES numpy, random\n",
    "    sampl = np.random.uniform(low=0.5, high=13.3, size=(50,))\n",
    "    '''\n",
    "    if repeat_array == 1:\n",
    "        # Create the base vector\n",
    "        vec = np.random.random_sample(size=(1, n_cols))\n",
    "        # Create num_rows replicas of vec to form the array\n",
    "        vec_array = np.repeat(vec, m_rows, axis=0)\n",
    "    else:\n",
    "        vec_array = np.random.random_sample(size=(m_rows, n_cols))\n",
    "        \n",
    "    return vec_array"
   ]
  },
  {
   "cell_type": "code",
   "execution_count": 5,
   "metadata": {},
   "outputs": [
    {
     "data": {
      "text/plain": [
       "array([[0.58810921, 0.86436888, 0.56814026, 0.79859235],\n",
       "       [0.42375235, 0.04585346, 0.52395053, 0.99916422],\n",
       "       [0.08220993, 0.11693382, 0.72997785, 0.96795451],\n",
       "       [0.3188587 , 0.8611894 , 0.861919  , 0.44869982],\n",
       "       [0.66619038, 0.14619328, 0.01093976, 0.34712976],\n",
       "       [0.08280242, 0.70876034, 0.84410598, 0.49583298],\n",
       "       [0.98229586, 0.39036148, 0.21096122, 0.81457367],\n",
       "       [0.25435282, 0.73339998, 0.64898652, 0.19309398],\n",
       "       [0.09065825, 0.75944453, 0.93697887, 0.89956211],\n",
       "       [0.27894024, 0.77093804, 0.73367349, 0.60983349]])"
      ]
     },
     "execution_count": 5,
     "metadata": {},
     "output_type": "execute_result"
    }
   ],
   "source": [
    "vec_array = create_data_array(10,4,repeat_array=0)\n",
    "vec_array"
   ]
  },
  {
   "cell_type": "code",
   "execution_count": 6,
   "metadata": {},
   "outputs": [],
   "source": [
    "def single_vector_distances(vector):\n",
    "    '''\n",
    "    Given a vector such as [0.2, 0.3, 0.76], find the pairwise distances between\n",
    "    the elements. Calculate the descriptive stats for these pairwise distances -- max, min, mean, and std dev.\n",
    "    \n",
    "    REQUIRES numpy\n",
    "    \n",
    "    '''\n",
    "    # Get the pairwise distances as a one-dimensional array\n",
    "    pairwise_dists = np.reshape([np.abs(vector[i] - vector[j]) for i in range(len(vector)) for j in range(len(vector))], (1, -1))[0]\n",
    "    \n",
    "    # Remove the zeros from the pairwise_distances vector \n",
    "    ## This ensures that the mean is larger than it would otherwise be and accurately reflects how average distances\n",
    "    ## between points grows as dimensionality increases.\n",
    "    \n",
    "    non_zero_distances = [x for x in pairwise_dists if x > 0]\n",
    "    \n",
    "    return [np.mean(non_zero_distances), np.std(non_zero_distances), np.max(non_zero_distances), np.min(non_zero_distances)]"
   ]
  },
  {
   "cell_type": "code",
   "execution_count": 7,
   "metadata": {},
   "outputs": [
    {
     "data": {
      "text/plain": [
       "[0.18319483622711027,\n",
       " 0.10395940640095658,\n",
       " 0.2962286248824363,\n",
       " 0.019968952843598342]"
      ]
     },
     "execution_count": 7,
     "metadata": {},
     "output_type": "execute_result"
    }
   ],
   "source": [
    "single_vector_distances(vec_array[0])"
   ]
  },
  {
   "cell_type": "code",
   "execution_count": 8,
   "metadata": {},
   "outputs": [
    {
     "data": {
      "text/plain": [
       "array([[0.58810921, 0.86436888, 0.56814026, 0.79859235],\n",
       "       [0.42375235, 0.04585346, 0.52395053, 0.99916422],\n",
       "       [0.08220993, 0.11693382, 0.72997785, 0.96795451],\n",
       "       [0.3188587 , 0.8611894 , 0.861919  , 0.44869982],\n",
       "       [0.66619038, 0.14619328, 0.01093976, 0.34712976],\n",
       "       [0.08280242, 0.70876034, 0.84410598, 0.49583298]])"
      ]
     },
     "execution_count": 8,
     "metadata": {},
     "output_type": "execute_result"
    }
   ],
   "source": [
    "vec_array_test = vec_array[0:6]\n",
    "vec_array_test"
   ]
  },
  {
   "cell_type": "code",
   "execution_count": 9,
   "metadata": {},
   "outputs": [],
   "source": [
    "def multiple_vector_distances(vector_array): \n",
    "    '''\n",
    "    Given a vector_array such as such as [[0.2, 0.3, 0.76],[0.2, 0.3, 0.76],[0.2, 0.3, 0.76]] \n",
    "    (in this case each vector in the array is the same, but they don't have to be), find the \n",
    "    pairwise distances between each vector in the vector_array. \n",
    "    \n",
    "    Calculate the descriptive statistics for the pairwise distances -- mean, std dev, max, and min.\n",
    "    OBSERVATION: The length of the vector_array is a measure of the dimensionality of the space.\n",
    "    \n",
    "    REQUIRES numpy, from sklearn.metrics import pairwise_distances\n",
    "    \n",
    "    '''\n",
    "    \n",
    "    # First transpose the vector_array\n",
    "    ## This ensures that when the vectors are the same the \n",
    "    ## same points that are on a single dimension are represented in multiple dimensiions. \n",
    "    ## When the vectors in the vector_array are different we don't have to transpose -- but it doesn't change\n",
    "    ## anything and it keeps the code simpler to handle both types of vector_arrays with a single function.\n",
    "    vec_array_transp = np.transpose(vector_array)\n",
    "    \n",
    "    # Find the pairwise distances between each vector in the array \n",
    "    ## and flatten the array into a one-row vector\n",
    "    pairwise_dists = np.reshape(pairwise_distances(vec_array_transp), (1, -1))[0]\n",
    "    \n",
    "    # Drop the zeros\n",
    "    non_zero_distances = [x for x in pairwise_dists if x > 0]\n",
    "    \n",
    "    # Return the descriptive stats\n",
    "    return [np.max(non_zero_distances), np.mean(non_zero_distances), np.std(non_zero_distances), np.min(non_zero_distances)]"
   ]
  },
  {
   "cell_type": "code",
   "execution_count": 10,
   "metadata": {},
   "outputs": [
    {
     "data": {
      "text/plain": [
       "[1.375945263939176,\n",
       " 1.1159285575827655,\n",
       " 0.20437431032076028,\n",
       " 0.8536765650653959]"
      ]
     },
     "execution_count": 10,
     "metadata": {},
     "output_type": "execute_result"
    }
   ],
   "source": [
    "multiple_vector_distances(vec_array_test)"
   ]
  },
  {
   "cell_type": "markdown",
   "metadata": {},
   "source": [
    "## How does the average distance between points vary as dimensionality increases? "
   ]
  },
  {
   "cell_type": "code",
   "execution_count": 11,
   "metadata": {},
   "outputs": [],
   "source": [
    "def distance_per_dimension(num_points, num_dims, repeat_array=1, custom_vector=[]):\n",
    "    '''\n",
    "    Imagine you have num_points number of points on a line. These are randomly generated points in \n",
    "    the interval (0.0, 1.0]. What happens to the average distance between these points as they are placed\n",
    "    in spaces with dimensions from 1 to num_dims?\n",
    "    \n",
    "    Specifying a custom vector helps us to use non-random points on any edge length we choose. \n",
    "    \n",
    "    USES create_data_array, single_vector_distances, multiple_vector_distances\n",
    "    \n",
    "    REQUIRES seaborn, matplotlib, pandas\n",
    "    \n",
    "    '''\n",
    "    t0 = time.time()\n",
    "    \n",
    "    # Create a vector array\n",
    "    ## The value of m_rows is the number of dimensions and n_cols the number of points for which\n",
    "    ## we calculate the results.\n",
    "    vector_array = create_data_array(m_rows=num_dims, n_cols=num_points, repeat_array=repeat_array)\n",
    "    print(\"The points on a single dimension are: {}\".format(vector_array[0]))\n",
    "\n",
    "    # Starting with dimensionality = 1 and ending with dimensionality = m_rows, find the \n",
    "    ## pairwise distance descriptive stats for the vector arrays. \n",
    "    dimensions_list = list(range(1, num_dims+1))\n",
    "    descriptive_stats = []\n",
    "    for i in range(num_dims):\n",
    "        if i == 0:\n",
    "            # Calculate the stats for a single vector\n",
    "            desc_stats = single_vector_distances(vector_array[i])\n",
    "        else:\n",
    "            # Calculate the stats for each dimension\n",
    "            desc_stats = multiple_vector_distances(vector_array[0:i+1])\n",
    "        \n",
    "        # Add the dimension number to the descriptive stats\n",
    "        desc_stats = [dimensions_list[i]] + desc_stats\n",
    "        descriptive_stats.append(desc_stats)\n",
    "\n",
    "    # descriptive stats now contains all the information we need\n",
    "\n",
    "    # Create a dataframe to view the results easily\n",
    "    df_desc_stats = pd.DataFrame(descriptive_stats, columns=['Number of Dimensions', \n",
    "                                                             'Max Distance Between Points', \n",
    "                                                             'Mean Distance Between Points', \n",
    "                                                             'Std Dev Distance Between Points', \n",
    "                                                             'Min Distance Between Points'])\n",
    "    \n",
    "    # Plot the results\n",
    "    fig, ax = plt.subplots(figsize=(12,8))\n",
    "    # Data for the plot\n",
    "    df_plot = df_desc_stats.drop(['Number of Dimensions'], axis=1)\n",
    "    sns.lineplot(data=df_plot);\n",
    "    plt.suptitle('Distance Between ' + str(num_points) + ' Points As Dimensionality Increases', fontsize='18')\n",
    "    plt.grid(True)\n",
    "    ax.set_xlabel(\"Number of Dimensions\", fontsize='14')\n",
    "    ax.set_ylabel(\"Distance\", fontsize='14');\n",
    "    \n",
    "    t1 = time.time()\n",
    "    print(\"Generated in {} seconds.\".format(round(t1-t0, 3)))\n",
    "    \n",
    "    return df_desc_stats"
   ]
  },
  {
   "cell_type": "code",
   "execution_count": 12,
   "metadata": {},
   "outputs": [
    {
     "name": "stdout",
     "output_type": "stream",
     "text": [
      "The points on a single dimension are: [0.7447084  0.52929305 0.03620799 0.14422721]\n",
      "Generated in 1.544 seconds.\n"
     ]
    },
    {
     "data": {
      "text/html": [
       "<div>\n",
       "<style scoped>\n",
       "    .dataframe tbody tr th:only-of-type {\n",
       "        vertical-align: middle;\n",
       "    }\n",
       "\n",
       "    .dataframe tbody tr th {\n",
       "        vertical-align: top;\n",
       "    }\n",
       "\n",
       "    .dataframe thead th {\n",
       "        text-align: right;\n",
       "    }\n",
       "</style>\n",
       "<table border=\"1\" class=\"dataframe\">\n",
       "  <thead>\n",
       "    <tr style=\"text-align: right;\">\n",
       "      <th></th>\n",
       "      <th>Number of Dimensions</th>\n",
       "      <th>Max Distance Between Points</th>\n",
       "      <th>Mean Distance Between Points</th>\n",
       "      <th>Std Dev Distance Between Points</th>\n",
       "      <th>Min Distance Between Points</th>\n",
       "    </tr>\n",
       "  </thead>\n",
       "  <tbody>\n",
       "    <tr>\n",
       "      <th>0</th>\n",
       "      <td>1</td>\n",
       "      <td>0.418428</td>\n",
       "      <td>0.208782</td>\n",
       "      <td>0.708500</td>\n",
       "      <td>0.108019</td>\n",
       "    </tr>\n",
       "    <tr>\n",
       "      <th>1</th>\n",
       "      <td>2</td>\n",
       "      <td>1.001971</td>\n",
       "      <td>0.591746</td>\n",
       "      <td>0.295262</td>\n",
       "      <td>0.152762</td>\n",
       "    </tr>\n",
       "    <tr>\n",
       "      <th>2</th>\n",
       "      <td>3</td>\n",
       "      <td>1.227159</td>\n",
       "      <td>0.724738</td>\n",
       "      <td>0.361621</td>\n",
       "      <td>0.187095</td>\n",
       "    </tr>\n",
       "    <tr>\n",
       "      <th>3</th>\n",
       "      <td>4</td>\n",
       "      <td>1.417001</td>\n",
       "      <td>0.836856</td>\n",
       "      <td>0.417564</td>\n",
       "      <td>0.216038</td>\n",
       "    </tr>\n",
       "    <tr>\n",
       "      <th>4</th>\n",
       "      <td>5</td>\n",
       "      <td>1.584255</td>\n",
       "      <td>0.935633</td>\n",
       "      <td>0.466851</td>\n",
       "      <td>0.241538</td>\n",
       "    </tr>\n",
       "    <tr>\n",
       "      <th>...</th>\n",
       "      <td>...</td>\n",
       "      <td>...</td>\n",
       "      <td>...</td>\n",
       "      <td>...</td>\n",
       "      <td>...</td>\n",
       "    </tr>\n",
       "    <tr>\n",
       "      <th>995</th>\n",
       "      <td>996</td>\n",
       "      <td>22.359896</td>\n",
       "      <td>13.205360</td>\n",
       "      <td>6.589052</td>\n",
       "      <td>3.409029</td>\n",
       "    </tr>\n",
       "    <tr>\n",
       "      <th>996</th>\n",
       "      <td>997</td>\n",
       "      <td>22.371118</td>\n",
       "      <td>13.211988</td>\n",
       "      <td>6.592359</td>\n",
       "      <td>3.410740</td>\n",
       "    </tr>\n",
       "    <tr>\n",
       "      <th>997</th>\n",
       "      <td>998</td>\n",
       "      <td>22.382334</td>\n",
       "      <td>13.218612</td>\n",
       "      <td>6.595664</td>\n",
       "      <td>3.412450</td>\n",
       "    </tr>\n",
       "    <tr>\n",
       "      <th>998</th>\n",
       "      <td>999</td>\n",
       "      <td>22.393545</td>\n",
       "      <td>13.225233</td>\n",
       "      <td>6.598968</td>\n",
       "      <td>3.414160</td>\n",
       "    </tr>\n",
       "    <tr>\n",
       "      <th>999</th>\n",
       "      <td>1000</td>\n",
       "      <td>22.404750</td>\n",
       "      <td>13.231850</td>\n",
       "      <td>6.602270</td>\n",
       "      <td>3.415868</td>\n",
       "    </tr>\n",
       "  </tbody>\n",
       "</table>\n",
       "<p>1000 rows × 5 columns</p>\n",
       "</div>"
      ],
      "text/plain": [
       "     Number of Dimensions  Max Distance Between Points  \\\n",
       "0                       1                     0.418428   \n",
       "1                       2                     1.001971   \n",
       "2                       3                     1.227159   \n",
       "3                       4                     1.417001   \n",
       "4                       5                     1.584255   \n",
       "..                    ...                          ...   \n",
       "995                   996                    22.359896   \n",
       "996                   997                    22.371118   \n",
       "997                   998                    22.382334   \n",
       "998                   999                    22.393545   \n",
       "999                  1000                    22.404750   \n",
       "\n",
       "     Mean Distance Between Points  Std Dev Distance Between Points  \\\n",
       "0                        0.208782                         0.708500   \n",
       "1                        0.591746                         0.295262   \n",
       "2                        0.724738                         0.361621   \n",
       "3                        0.836856                         0.417564   \n",
       "4                        0.935633                         0.466851   \n",
       "..                            ...                              ...   \n",
       "995                     13.205360                         6.589052   \n",
       "996                     13.211988                         6.592359   \n",
       "997                     13.218612                         6.595664   \n",
       "998                     13.225233                         6.598968   \n",
       "999                     13.231850                         6.602270   \n",
       "\n",
       "     Min Distance Between Points  \n",
       "0                       0.108019  \n",
       "1                       0.152762  \n",
       "2                       0.187095  \n",
       "3                       0.216038  \n",
       "4                       0.241538  \n",
       "..                           ...  \n",
       "995                     3.409029  \n",
       "996                     3.410740  \n",
       "997                     3.412450  \n",
       "998                     3.414160  \n",
       "999                     3.415868  \n",
       "\n",
       "[1000 rows x 5 columns]"
      ]
     },
     "execution_count": 12,
     "metadata": {},
     "output_type": "execute_result"
    },
    {
     "data": {
      "image/png": "[encoded data removed]",
      "text/plain": [
       "<Figure size 864x576 with 1 Axes>"
      ]
     },
     "metadata": {
      "needs_background": "light"
     },
     "output_type": "display_data"
    }
   ],
   "source": [
    "distance_per_dimension(num_points=4, num_dims=1000, repeat_array=1)"
   ]
  },
  {
   "cell_type": "code",
   "execution_count": null,
   "metadata": {},
   "outputs": [],
   "source": []
  }
 ],
 "metadata": {
  "kernelspec": {
   "display_name": "Python 3",
   "language": "python",
   "name": "python3"
  },
  "language_info": {
   "codemirror_mode": {
    "name": "ipython",
    "version": 3
   },
   "file_extension": ".py",
   "mimetype": "text/x-python",
   "name": "python",
   "nbconvert_exporter": "python",
   "pygments_lexer": "ipython3",
   "version": "3.8.5"
  }
 },
 "nbformat": 4,
 "nbformat_minor": 4
}
